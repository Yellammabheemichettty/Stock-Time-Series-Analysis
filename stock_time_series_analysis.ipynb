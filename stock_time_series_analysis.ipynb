{
  "nbformat": 4,
  "nbformat_minor": 0,
  "metadata": {
    "colab": {
      "name": "stock-time-series-analysis.ipynb",
      "provenance": [],
      "collapsed_sections": [],
      "authorship_tag": "ABX9TyN/Q48emlY2XsiD4UNeQW7r",
      "include_colab_link": true
    },
    "kernelspec": {
      "display_name": "Python 3",
      "name": "python3"
    }
  },
  "cells": [
    {
      "cell_type": "markdown",
      "metadata": {
        "id": "view-in-github",
        "colab_type": "text"
      },
      "source": [
        "<a href=\"https://colab.research.google.com/github/Yellammabheemichettty/Stock-Time-Series-Analysis/blob/main/stock_time_series_analysis.ipynb\" target=\"_parent\"><img src=\"https://colab.research.google.com/assets/colab-badge.svg\" alt=\"Open In Colab\"/></a>"
      ]
    },
    {
      "cell_type": "code",
      "metadata": {
        "id": "VEAaFIzHkGBd"
      },
      "source": [
        "import numpy as np\n",
        "import pandas as pd\n",
        "from tensorflow.keras.models import Sequential\n",
        "from tensorflow.keras.layers import LSTM\n",
        "from tensorflow.keras.layers import Dense\n",
        "from tensorflow.keras.layers import Flatten\n",
        "import matplotlib.pyplot as plt\n",
        "from pandas import DataFrame"
      ],
      "execution_count": null,
      "outputs": []
    },
    {
      "cell_type": "code",
      "metadata": {
        "id": "rAiHhudgkqYb"
      },
      "source": [
        "#Reaidng the data from csv file\n",
        "df = pd.read_csv(\"/content/all_stocks_2017-01-01_to_2018-01-01.csv\")"
      ],
      "execution_count": null,
      "outputs": []
    },
    {
      "cell_type": "code",
      "metadata": {
        "colab": {
          "base_uri": "https://localhost:8080/",
          "height": 197
        },
        "id": "wbSQMQCMk6ZC",
        "outputId": "460874a0-0f38-4377-f756-707ea7251ed5"
      },
      "source": [
        "df.head()"
      ],
      "execution_count": null,
      "outputs": [
        {
          "output_type": "execute_result",
          "data": {
            "text/html": [
              "<div>\n",
              "<style scoped>\n",
              "    .dataframe tbody tr th:only-of-type {\n",
              "        vertical-align: middle;\n",
              "    }\n",
              "\n",
              "    .dataframe tbody tr th {\n",
              "        vertical-align: top;\n",
              "    }\n",
              "\n",
              "    .dataframe thead th {\n",
              "        text-align: right;\n",
              "    }\n",
              "</style>\n",
              "<table border=\"1\" class=\"dataframe\">\n",
              "  <thead>\n",
              "    <tr style=\"text-align: right;\">\n",
              "      <th></th>\n",
              "      <th>Date</th>\n",
              "      <th>Open</th>\n",
              "      <th>High</th>\n",
              "      <th>Low</th>\n",
              "      <th>Close</th>\n",
              "      <th>Volume</th>\n",
              "      <th>Name</th>\n",
              "    </tr>\n",
              "  </thead>\n",
              "  <tbody>\n",
              "    <tr>\n",
              "      <th>0</th>\n",
              "      <td>2017-01-03</td>\n",
              "      <td>178.83</td>\n",
              "      <td>180.00</td>\n",
              "      <td>177.22</td>\n",
              "      <td>178.05</td>\n",
              "      <td>2510055</td>\n",
              "      <td>MMM</td>\n",
              "    </tr>\n",
              "    <tr>\n",
              "      <th>1</th>\n",
              "      <td>2017-01-04</td>\n",
              "      <td>178.03</td>\n",
              "      <td>178.90</td>\n",
              "      <td>177.61</td>\n",
              "      <td>178.32</td>\n",
              "      <td>1541985</td>\n",
              "      <td>MMM</td>\n",
              "    </tr>\n",
              "    <tr>\n",
              "      <th>2</th>\n",
              "      <td>2017-01-05</td>\n",
              "      <td>178.26</td>\n",
              "      <td>179.14</td>\n",
              "      <td>176.89</td>\n",
              "      <td>177.71</td>\n",
              "      <td>1447848</td>\n",
              "      <td>MMM</td>\n",
              "    </tr>\n",
              "    <tr>\n",
              "      <th>3</th>\n",
              "      <td>2017-01-06</td>\n",
              "      <td>177.29</td>\n",
              "      <td>178.60</td>\n",
              "      <td>175.80</td>\n",
              "      <td>178.23</td>\n",
              "      <td>1625049</td>\n",
              "      <td>MMM</td>\n",
              "    </tr>\n",
              "    <tr>\n",
              "      <th>4</th>\n",
              "      <td>2017-01-09</td>\n",
              "      <td>178.37</td>\n",
              "      <td>178.38</td>\n",
              "      <td>177.20</td>\n",
              "      <td>177.27</td>\n",
              "      <td>1622625</td>\n",
              "      <td>MMM</td>\n",
              "    </tr>\n",
              "  </tbody>\n",
              "</table>\n",
              "</div>"
            ],
            "text/plain": [
              "         Date    Open    High     Low   Close   Volume Name\n",
              "0  2017-01-03  178.83  180.00  177.22  178.05  2510055  MMM\n",
              "1  2017-01-04  178.03  178.90  177.61  178.32  1541985  MMM\n",
              "2  2017-01-05  178.26  179.14  176.89  177.71  1447848  MMM\n",
              "3  2017-01-06  177.29  178.60  175.80  178.23  1625049  MMM\n",
              "4  2017-01-09  178.37  178.38  177.20  177.27  1622625  MMM"
            ]
          },
          "metadata": {
            "tags": []
          },
          "execution_count": 75
        }
      ]
    },
    {
      "cell_type": "code",
      "metadata": {
        "colab": {
          "base_uri": "https://localhost:8080/"
        },
        "id": "UvqIRAuvk-UX",
        "outputId": "a5cc4e9e-0c47-408f-ebc4-441e3fd21e41"
      },
      "source": [
        "df.info()"
      ],
      "execution_count": null,
      "outputs": [
        {
          "output_type": "stream",
          "text": [
            "<class 'pandas.core.frame.DataFrame'>\n",
            "RangeIndex: 7781 entries, 0 to 7780\n",
            "Data columns (total 7 columns):\n",
            " #   Column  Non-Null Count  Dtype  \n",
            "---  ------  --------------  -----  \n",
            " 0   Date    7781 non-null   object \n",
            " 1   Open    7757 non-null   float64\n",
            " 2   High    7772 non-null   float64\n",
            " 3   Low     7762 non-null   float64\n",
            " 4   Close   7781 non-null   float64\n",
            " 5   Volume  7781 non-null   int64  \n",
            " 6   Name    7781 non-null   object \n",
            "dtypes: float64(4), int64(1), object(2)\n",
            "memory usage: 425.6+ KB\n"
          ],
          "name": "stdout"
        }
      ]
    },
    {
      "cell_type": "code",
      "metadata": {
        "colab": {
          "base_uri": "https://localhost:8080/",
          "height": 287
        },
        "id": "PLweqbGUk-xE",
        "outputId": "27ad89d9-d502-4e8a-e4f4-83039da83174"
      },
      "source": [
        "df.describe()"
      ],
      "execution_count": null,
      "outputs": [
        {
          "output_type": "execute_result",
          "data": {
            "text/html": [
              "<div>\n",
              "<style scoped>\n",
              "    .dataframe tbody tr th:only-of-type {\n",
              "        vertical-align: middle;\n",
              "    }\n",
              "\n",
              "    .dataframe tbody tr th {\n",
              "        vertical-align: top;\n",
              "    }\n",
              "\n",
              "    .dataframe thead th {\n",
              "        text-align: right;\n",
              "    }\n",
              "</style>\n",
              "<table border=\"1\" class=\"dataframe\">\n",
              "  <thead>\n",
              "    <tr style=\"text-align: right;\">\n",
              "      <th></th>\n",
              "      <th>Open</th>\n",
              "      <th>High</th>\n",
              "      <th>Low</th>\n",
              "      <th>Close</th>\n",
              "      <th>Volume</th>\n",
              "    </tr>\n",
              "  </thead>\n",
              "  <tbody>\n",
              "    <tr>\n",
              "      <th>count</th>\n",
              "      <td>7757.000000</td>\n",
              "      <td>7772.000000</td>\n",
              "      <td>7762.000000</td>\n",
              "      <td>7781.000000</td>\n",
              "      <td>7.781000e+03</td>\n",
              "    </tr>\n",
              "    <tr>\n",
              "      <th>mean</th>\n",
              "      <td>160.105484</td>\n",
              "      <td>161.006810</td>\n",
              "      <td>159.015224</td>\n",
              "      <td>159.996171</td>\n",
              "      <td>1.023779e+07</td>\n",
              "    </tr>\n",
              "    <tr>\n",
              "      <th>std</th>\n",
              "      <td>217.530884</td>\n",
              "      <td>218.727637</td>\n",
              "      <td>215.859901</td>\n",
              "      <td>217.242145</td>\n",
              "      <td>1.283528e+07</td>\n",
              "    </tr>\n",
              "    <tr>\n",
              "      <th>min</th>\n",
              "      <td>17.270000</td>\n",
              "      <td>17.400000</td>\n",
              "      <td>17.250000</td>\n",
              "      <td>17.360000</td>\n",
              "      <td>8.708300e+04</td>\n",
              "    </tr>\n",
              "    <tr>\n",
              "      <th>25%</th>\n",
              "      <td>60.430000</td>\n",
              "      <td>61.007500</td>\n",
              "      <td>59.977500</td>\n",
              "      <td>60.420000</td>\n",
              "      <td>3.132760e+06</td>\n",
              "    </tr>\n",
              "    <tr>\n",
              "      <th>50%</th>\n",
              "      <td>102.000000</td>\n",
              "      <td>102.835000</td>\n",
              "      <td>101.330000</td>\n",
              "      <td>102.200000</td>\n",
              "      <td>6.083340e+06</td>\n",
              "    </tr>\n",
              "    <tr>\n",
              "      <th>75%</th>\n",
              "      <td>154.700000</td>\n",
              "      <td>155.452500</td>\n",
              "      <td>153.775000</td>\n",
              "      <td>154.750000</td>\n",
              "      <td>1.336894e+07</td>\n",
              "    </tr>\n",
              "    <tr>\n",
              "      <th>max</th>\n",
              "      <td>1204.880000</td>\n",
              "      <td>1213.410000</td>\n",
              "      <td>1191.150000</td>\n",
              "      <td>1195.830000</td>\n",
              "      <td>3.125568e+08</td>\n",
              "    </tr>\n",
              "  </tbody>\n",
              "</table>\n",
              "</div>"
            ],
            "text/plain": [
              "              Open         High          Low        Close        Volume\n",
              "count  7757.000000  7772.000000  7762.000000  7781.000000  7.781000e+03\n",
              "mean    160.105484   161.006810   159.015224   159.996171  1.023779e+07\n",
              "std     217.530884   218.727637   215.859901   217.242145  1.283528e+07\n",
              "min      17.270000    17.400000    17.250000    17.360000  8.708300e+04\n",
              "25%      60.430000    61.007500    59.977500    60.420000  3.132760e+06\n",
              "50%     102.000000   102.835000   101.330000   102.200000  6.083340e+06\n",
              "75%     154.700000   155.452500   153.775000   154.750000  1.336894e+07\n",
              "max    1204.880000  1213.410000  1191.150000  1195.830000  3.125568e+08"
            ]
          },
          "metadata": {
            "tags": []
          },
          "execution_count": 77
        }
      ]
    },
    {
      "cell_type": "code",
      "metadata": {
        "id": "B4cVfiiNk_Eq"
      },
      "source": [
        "#Choosing cloumn from dataset and loading it in df1\n",
        "df1 = df['Close']"
      ],
      "execution_count": null,
      "outputs": []
    },
    {
      "cell_type": "code",
      "metadata": {
        "colab": {
          "base_uri": "https://localhost:8080/"
        },
        "id": "seRljCz9q4LZ",
        "outputId": "9080b016-c947-4440-e098-3a23e17f87d7"
      },
      "source": [
        "df1"
      ],
      "execution_count": null,
      "outputs": [
        {
          "output_type": "execute_result",
          "data": {
            "text/plain": [
              "0       178.05\n",
              "1       178.32\n",
              "2       177.71\n",
              "3       178.23\n",
              "4       177.27\n",
              "         ...  \n",
              "7776     71.58\n",
              "7777     69.86\n",
              "7778     70.06\n",
              "7779     69.82\n",
              "7780     69.85\n",
              "Name: Close, Length: 7781, dtype: float64"
            ]
          },
          "metadata": {
            "tags": []
          },
          "execution_count": 79
        }
      ]
    },
    {
      "cell_type": "code",
      "metadata": {
        "colab": {
          "base_uri": "https://localhost:8080/",
          "height": 282
        },
        "id": "g2f63yO5k_LG",
        "outputId": "90165299-a347-4040-a64a-1d2fac378079"
      },
      "source": [
        "plt.plot(df1)"
      ],
      "execution_count": null,
      "outputs": [
        {
          "output_type": "execute_result",
          "data": {
            "text/plain": [
              "[<matplotlib.lines.Line2D at 0x7ff827b28cd0>]"
            ]
          },
          "metadata": {
            "tags": []
          },
          "execution_count": 80
        },
        {
          "output_type": "display_data",
          "data": {
            "image/png": "[encoded data removed]",
            "text/plain": [
              "<Figure size 432x288 with 1 Axes>"
            ]
          },
          "metadata": {
            "tags": [],
            "needs_background": "light"
          }
        }
      ]
    },
    {
      "cell_type": "code",
      "metadata": {
        "id": "9ifQNyWDk_N-"
      },
      "source": [
        "#scaling the data and transform\n",
        "from sklearn.preprocessing import MinMaxScaler\n",
        "scaler = MinMaxScaler(feature_range=(0,1))\n",
        "df1 = scaler.fit_transform(np.array(df1).reshape(-1,1))"
      ],
      "execution_count": null,
      "outputs": []
    },
    {
      "cell_type": "code",
      "metadata": {
        "colab": {
          "base_uri": "https://localhost:8080/"
        },
        "id": "_QkM_an7qxpR",
        "outputId": "9b3cef0d-e9f7-43f2-de62-ae0d25a9bc59"
      },
      "source": [
        "df1.shape"
      ],
      "execution_count": null,
      "outputs": [
        {
          "output_type": "execute_result",
          "data": {
            "text/plain": [
              "(7781, 1)"
            ]
          },
          "metadata": {
            "tags": []
          },
          "execution_count": 82
        }
      ]
    },
    {
      "cell_type": "code",
      "metadata": {
        "id": "RkGyaqBTrAXU"
      },
      "source": [
        "# split into train and test sets\n",
        "train_size = int(len(df1) * 0.67)\n",
        "test_size = len(df1) - train_size\n",
        "train, test = df1[0:train_size,:], df1[train_size:len(df1),:]\n"
      ],
      "execution_count": null,
      "outputs": []
    },
    {
      "cell_type": "code",
      "metadata": {
        "colab": {
          "base_uri": "https://localhost:8080/"
        },
        "id": "9MF4U-A9r-12",
        "outputId": "364a096f-3482-43a6-d3e8-1ce4d171b5a1"
      },
      "source": [
        "train_size,test_size"
      ],
      "execution_count": null,
      "outputs": [
        {
          "output_type": "execute_result",
          "data": {
            "text/plain": [
              "(5213, 2568)"
            ]
          },
          "metadata": {
            "tags": []
          },
          "execution_count": 86
        }
      ]
    },
    {
      "cell_type": "code",
      "metadata": {
        "id": "Har17GaZsFmg"
      },
      "source": [
        "# convert an array of values into a dataset matrix\n",
        "def create_dataset(dataset, time_step=1):\n",
        "\tdataX, dataY = [], []\n",
        "\tfor i in range(len(dataset)-time_step-1):\n",
        "\t\ta = dataset[i:(i+time_step), 0]\n",
        "\t\tdataX.append(a)\n",
        "\t\tdataY.append(dataset[i + time_step, 0])\n",
        "\treturn numpy.array(dataX), numpy.array(dataY)"
      ],
      "execution_count": null,
      "outputs": []
    },
    {
      "cell_type": "code",
      "metadata": {
        "id": "StggNBi6tuV3"
      },
      "source": [
        "import numpy\n",
        "time_step = 100\n",
        "trainX, trainY = create_dataset(train, time_step)\n",
        "testX, testY = create_dataset(test, time_step)"
      ],
      "execution_count": null,
      "outputs": []
    },
    {
      "cell_type": "code",
      "metadata": {
        "colab": {
          "base_uri": "https://localhost:8080/"
        },
        "id": "23mBwk73uFJ0",
        "outputId": "b762c6c3-6b5c-4639-dc21-727523a5d2ae"
      },
      "source": [
        "print(trainX.shape)\n",
        "print(trainY.shape)"
      ],
      "execution_count": null,
      "outputs": [
        {
          "output_type": "stream",
          "text": [
            "(5112, 100)\n",
            "(5112,)\n"
          ],
          "name": "stdout"
        }
      ]
    },
    {
      "cell_type": "code",
      "metadata": {
        "colab": {
          "base_uri": "https://localhost:8080/"
        },
        "id": "aedXZDNvuZ6h",
        "outputId": "e22ad621-936f-4867-f43d-9a379765c708"
      },
      "source": [
        "print(testX.shape)\n",
        "print(testY.shape)"
      ],
      "execution_count": null,
      "outputs": [
        {
          "output_type": "stream",
          "text": [
            "(2467, 100)\n",
            "(2467,)\n"
          ],
          "name": "stdout"
        }
      ]
    },
    {
      "cell_type": "code",
      "metadata": {
        "id": "QGqv_nxhvBaY"
      },
      "source": [
        "# reshape input to be [samples, time steps, features]\n",
        "trainX = numpy.reshape(trainX, (trainX.shape[0], trainX.shape[1], 1))\n",
        "testX = numpy.reshape(testX, (testX.shape[0], testX.shape[1], 1))"
      ],
      "execution_count": null,
      "outputs": []
    },
    {
      "cell_type": "code",
      "metadata": {
        "colab": {
          "background_save": true,
          "base_uri": "https://localhost:8080/"
        },
        "id": "EBRT9ltGvGcc",
        "outputId": "785d0138-2976-4fdb-90ad-8df48d7330b3"
      },
      "source": [
        "# create and fit the LSTM network\n",
        "model = Sequential()\n",
        "model.add(LSTM(4, input_shape=(time_step, 1)))\n",
        "model.add(Dense(1))\n",
        "model.compile(loss='mean_squared_error', optimizer='adam')\n",
        "model.fit(trainX, trainY, epochs=100, batch_size=1, verbose=2)"
      ],
      "execution_count": null,
      "outputs": [
        {
          "output_type": "stream",
          "text": [
            "Epoch 1/100\n",
            "5112/5112 - 59s - loss: 1.0708e-04\n",
            "Epoch 2/100\n",
            "5112/5112 - 57s - loss: 7.0790e-05\n",
            "Epoch 3/100\n",
            "5112/5112 - 57s - loss: 5.6502e-05\n",
            "Epoch 4/100\n",
            "5112/5112 - 57s - loss: 4.8399e-05\n",
            "Epoch 5/100\n",
            "5112/5112 - 57s - loss: 4.2007e-05\n",
            "Epoch 6/100\n",
            "5112/5112 - 58s - loss: 3.8948e-05\n",
            "Epoch 7/100\n",
            "5112/5112 - 57s - loss: 3.5870e-05\n",
            "Epoch 8/100\n",
            "5112/5112 - 57s - loss: 3.5453e-05\n",
            "Epoch 9/100\n",
            "5112/5112 - 57s - loss: 3.4195e-05\n",
            "Epoch 10/100\n",
            "5112/5112 - 57s - loss: 3.3955e-05\n",
            "Epoch 11/100\n",
            "5112/5112 - 59s - loss: 3.3050e-05\n",
            "Epoch 12/100\n",
            "5112/5112 - 57s - loss: 3.2865e-05\n",
            "Epoch 13/100\n",
            "5112/5112 - 57s - loss: 3.2752e-05\n",
            "Epoch 14/100\n",
            "5112/5112 - 57s - loss: 3.1886e-05\n",
            "Epoch 15/100\n",
            "5112/5112 - 57s - loss: 3.2347e-05\n",
            "Epoch 16/100\n",
            "5112/5112 - 58s - loss: 3.2911e-05\n",
            "Epoch 17/100\n",
            "5112/5112 - 58s - loss: 3.2701e-05\n",
            "Epoch 18/100\n",
            "5112/5112 - 58s - loss: 3.1969e-05\n",
            "Epoch 19/100\n",
            "5112/5112 - 58s - loss: 3.1898e-05\n",
            "Epoch 20/100\n",
            "5112/5112 - 58s - loss: 3.2498e-05\n",
            "Epoch 21/100\n",
            "5112/5112 - 58s - loss: 3.1381e-05\n",
            "Epoch 22/100\n",
            "5112/5112 - 59s - loss: 3.2282e-05\n",
            "Epoch 23/100\n",
            "5112/5112 - 58s - loss: 3.2045e-05\n",
            "Epoch 24/100\n",
            "5112/5112 - 58s - loss: 3.2499e-05\n",
            "Epoch 25/100\n",
            "5112/5112 - 58s - loss: 3.2750e-05\n",
            "Epoch 26/100\n",
            "5112/5112 - 58s - loss: 3.1982e-05\n",
            "Epoch 27/100\n",
            "5112/5112 - 58s - loss: 3.2220e-05\n",
            "Epoch 28/100\n",
            "5112/5112 - 58s - loss: 3.2163e-05\n",
            "Epoch 29/100\n",
            "5112/5112 - 58s - loss: 3.1570e-05\n",
            "Epoch 30/100\n",
            "5112/5112 - 58s - loss: 3.2336e-05\n",
            "Epoch 31/100\n",
            "5112/5112 - 58s - loss: 3.2047e-05\n",
            "Epoch 32/100\n",
            "5112/5112 - 58s - loss: 3.1799e-05\n",
            "Epoch 33/100\n",
            "5112/5112 - 58s - loss: 3.1716e-05\n",
            "Epoch 34/100\n",
            "5112/5112 - 58s - loss: 3.2021e-05\n",
            "Epoch 35/100\n",
            "5112/5112 - 58s - loss: 3.1562e-05\n",
            "Epoch 36/100\n",
            "5112/5112 - 58s - loss: 3.1797e-05\n",
            "Epoch 37/100\n",
            "5112/5112 - 58s - loss: 3.1260e-05\n",
            "Epoch 38/100\n",
            "5112/5112 - 59s - loss: 3.1228e-05\n",
            "Epoch 39/100\n",
            "5112/5112 - 59s - loss: 3.2482e-05\n",
            "Epoch 40/100\n",
            "5112/5112 - 57s - loss: 3.1623e-05\n",
            "Epoch 41/100\n",
            "5112/5112 - 57s - loss: 3.2077e-05\n",
            "Epoch 42/100\n",
            "5112/5112 - 58s - loss: 3.1794e-05\n",
            "Epoch 43/100\n",
            "5112/5112 - 58s - loss: 3.1548e-05\n",
            "Epoch 44/100\n",
            "5112/5112 - 58s - loss: 3.2398e-05\n",
            "Epoch 45/100\n",
            "5112/5112 - 58s - loss: 3.1920e-05\n",
            "Epoch 46/100\n",
            "5112/5112 - 58s - loss: 3.1821e-05\n",
            "Epoch 47/100\n",
            "5112/5112 - 57s - loss: 3.1597e-05\n",
            "Epoch 48/100\n",
            "5112/5112 - 58s - loss: 3.1600e-05\n",
            "Epoch 49/100\n",
            "5112/5112 - 58s - loss: 3.1272e-05\n",
            "Epoch 50/100\n",
            "5112/5112 - 58s - loss: 3.1790e-05\n",
            "Epoch 51/100\n",
            "5112/5112 - 58s - loss: 3.1221e-05\n",
            "Epoch 52/100\n",
            "5112/5112 - 58s - loss: 3.1526e-05\n",
            "Epoch 53/100\n",
            "5112/5112 - 57s - loss: 3.1308e-05\n",
            "Epoch 54/100\n",
            "5112/5112 - 58s - loss: 3.1821e-05\n",
            "Epoch 55/100\n",
            "5112/5112 - 57s - loss: 3.1483e-05\n",
            "Epoch 56/100\n",
            "5112/5112 - 58s - loss: 3.1988e-05\n",
            "Epoch 57/100\n",
            "5112/5112 - 57s - loss: 3.1529e-05\n",
            "Epoch 58/100\n",
            "5112/5112 - 57s - loss: 3.1344e-05\n",
            "Epoch 59/100\n",
            "5112/5112 - 58s - loss: 3.1700e-05\n",
            "Epoch 60/100\n",
            "5112/5112 - 57s - loss: 3.1751e-05\n",
            "Epoch 61/100\n",
            "5112/5112 - 58s - loss: 3.1424e-05\n",
            "Epoch 62/100\n",
            "5112/5112 - 57s - loss: 3.1565e-05\n",
            "Epoch 63/100\n",
            "5112/5112 - 57s - loss: 3.1867e-05\n",
            "Epoch 64/100\n",
            "5112/5112 - 57s - loss: 3.0878e-05\n",
            "Epoch 65/100\n",
            "5112/5112 - 57s - loss: 3.1473e-05\n",
            "Epoch 66/100\n",
            "5112/5112 - 57s - loss: 3.1445e-05\n",
            "Epoch 67/100\n",
            "5112/5112 - 58s - loss: 3.1303e-05\n",
            "Epoch 68/100\n",
            "5112/5112 - 57s - loss: 3.1157e-05\n",
            "Epoch 69/100\n",
            "5112/5112 - 57s - loss: 3.1650e-05\n",
            "Epoch 70/100\n",
            "5112/5112 - 58s - loss: 3.1108e-05\n",
            "Epoch 71/100\n",
            "5112/5112 - 57s - loss: 2.9561e-05\n",
            "Epoch 72/100\n",
            "5112/5112 - 58s - loss: 3.1292e-05\n",
            "Epoch 73/100\n",
            "5112/5112 - 58s - loss: 3.1365e-05\n",
            "Epoch 74/100\n",
            "5112/5112 - 57s - loss: 3.0991e-05\n",
            "Epoch 75/100\n",
            "5112/5112 - 58s - loss: 3.1415e-05\n",
            "Epoch 76/100\n",
            "5112/5112 - 58s - loss: 3.1432e-05\n",
            "Epoch 77/100\n",
            "5112/5112 - 57s - loss: 3.0857e-05\n",
            "Epoch 78/100\n",
            "5112/5112 - 58s - loss: 3.0893e-05\n",
            "Epoch 79/100\n",
            "5112/5112 - 57s - loss: 3.1511e-05\n",
            "Epoch 80/100\n",
            "5112/5112 - 58s - loss: 3.1053e-05\n",
            "Epoch 81/100\n",
            "5112/5112 - 57s - loss: 3.1037e-05\n",
            "Epoch 82/100\n",
            "5112/5112 - 57s - loss: 3.0975e-05\n",
            "Epoch 83/100\n",
            "5112/5112 - 58s - loss: 3.0850e-05\n",
            "Epoch 84/100\n",
            "5112/5112 - 57s - loss: 3.0917e-05\n",
            "Epoch 85/100\n",
            "5112/5112 - 57s - loss: 3.1417e-05\n",
            "Epoch 86/100\n",
            "5112/5112 - 58s - loss: 3.1201e-05\n",
            "Epoch 87/100\n",
            "5112/5112 - 57s - loss: 3.0430e-05\n",
            "Epoch 88/100\n",
            "5112/5112 - 58s - loss: 3.1340e-05\n",
            "Epoch 89/100\n",
            "5112/5112 - 58s - loss: 3.1659e-05\n",
            "Epoch 90/100\n",
            "5112/5112 - 58s - loss: 3.1009e-05\n",
            "Epoch 91/100\n",
            "5112/5112 - 58s - loss: 3.1555e-05\n",
            "Epoch 92/100\n",
            "5112/5112 - 58s - loss: 3.1069e-05\n",
            "Epoch 93/100\n",
            "5112/5112 - 57s - loss: 3.1024e-05\n",
            "Epoch 94/100\n",
            "5112/5112 - 57s - loss: 3.1484e-05\n",
            "Epoch 95/100\n",
            "5112/5112 - 57s - loss: 3.1001e-05\n",
            "Epoch 96/100\n",
            "5112/5112 - 58s - loss: 3.0909e-05\n",
            "Epoch 97/100\n",
            "5112/5112 - 57s - loss: 3.1424e-05\n",
            "Epoch 98/100\n",
            "5112/5112 - 58s - loss: 3.1237e-05\n",
            "Epoch 99/100\n",
            "5112/5112 - 58s - loss: 3.1000e-05\n",
            "Epoch 100/100\n",
            "5112/5112 - 58s - loss: 3.1049e-05\n"
          ],
          "name": "stdout"
        },
        {
          "output_type": "execute_result",
          "data": {
            "text/plain": [
              "<tensorflow.python.keras.callbacks.History at 0x7ff829995450>"
            ]
          },
          "metadata": {
            "tags": []
          },
          "execution_count": 0
        }
      ]
    },
    {
      "cell_type": "code",
      "metadata": {
        "id": "aXgSK-ayhZXs"
      },
      "source": [
        "# make predictions\n",
        "trainPredict = model.predict(trainX)\n",
        "testPredict = model.predict(testX)\n"
      ],
      "execution_count": null,
      "outputs": []
    },
    {
      "cell_type": "code",
      "metadata": {
        "id": "YHHoAwQkntSj"
      },
      "source": [
        "# invert predictions\n",
        "trainPredict = scaler.inverse_transform(trainPredict)\n",
        "trainY = scaler.inverse_transform([trainY])\n",
        "testPredict = scaler.inverse_transform(testPredict)\n",
        "testY = scaler.inverse_transform([testY])"
      ],
      "execution_count": null,
      "outputs": []
    },
    {
      "cell_type": "code",
      "metadata": {
        "colab": {
          "base_uri": "https://localhost:8080/"
        },
        "id": "-8sN61ZwhnbY",
        "outputId": "5805c3e9-9257-45ad-8626-72e6a02bec1c"
      },
      "source": [
        "from sklearn.metrics import mean_squared_error\n",
        "import math\n",
        "\n",
        "# calculate root mean squared error\n",
        "trainScore = math.sqrt(mean_squared_error(trainY[0], trainPredict[:,0]))\n",
        "print('Train Score: %.2f RMSE' % (trainScore))\n",
        "testScore = math.sqrt(mean_squared_error(testY[0], testPredict[:,0]))\n",
        "print('Test Score: %.2f RMSE' % (testScore))"
      ],
      "execution_count": null,
      "outputs": [
        {
          "output_type": "stream",
          "text": [
            "Train Score: 6.58 RMSE\n",
            "Test Score: 73.76 RMSE\n"
          ],
          "name": "stdout"
        }
      ]
    },
    {
      "cell_type": "code",
      "metadata": {
        "id": "Y7Lng2bIh_AS"
      },
      "source": [
        "# shift train predictions for plotting\n",
        "look_back = 100\n",
        "trainPredictPlot = numpy.empty_like(df1)\n",
        "trainPredictPlot[:, :] = numpy.nan\n",
        "trainPredictPlot[look_back:len(trainPredict)+look_back, :] = trainPredict\n"
      ],
      "execution_count": null,
      "outputs": []
    },
    {
      "cell_type": "code",
      "metadata": {
        "id": "nnZ0KqO_nwXf"
      },
      "source": [
        "# shift test predictions for plotting\n",
        "testPredictPlot = numpy.empty_like(df1)\n",
        "testPredictPlot[:, :] = numpy.nan\n",
        "testPredictPlot[len(trainPredict)+(look_back*2)+1:len(df1)-1, :] = testPredict"
      ],
      "execution_count": null,
      "outputs": []
    },
    {
      "cell_type": "code",
      "metadata": {
        "colab": {
          "base_uri": "https://localhost:8080/",
          "height": 265
        },
        "id": "QaHGBmiNjDFo",
        "outputId": "07f9ef8b-07ca-4a71-985a-0eff5510a133"
      },
      "source": [
        "# plot baseline and predictions\n",
        "plt.plot(scaler.inverse_transform(df1))\n",
        "plt.plot(trainPredictPlot)\n",
        "plt.plot(testPredictPlot)\n",
        "plt.show()"
      ],
      "execution_count": null,
      "outputs": [
        {
          "output_type": "display_data",
          "data": {
            "image/png": "[encoded data removed]",
            "text/plain": [
              "<Figure size 432x288 with 1 Axes>"
            ]
          },
          "metadata": {
            "tags": [],
            "needs_background": "light"
          }
        }
      ]
    },
    {
      "cell_type": "code",
      "metadata": {
        "colab": {
          "base_uri": "https://localhost:8080/"
        },
        "id": "BhZ_KIU6jTsg",
        "outputId": "34ee55fb-cad3-4205-94fa-98e5a7a0a228"
      },
      "source": [
        "len(test)"
      ],
      "execution_count": null,
      "outputs": [
        {
          "output_type": "execute_result",
          "data": {
            "text/plain": [
              "2568"
            ]
          },
          "metadata": {
            "tags": []
          },
          "execution_count": 50
        }
      ]
    },
    {
      "cell_type": "code",
      "metadata": {
        "colab": {
          "base_uri": "https://localhost:8080/"
        },
        "id": "3ng4P7G9lDA0",
        "outputId": "b2c690e2-9f6c-4f0d-dc9f-14c5d30d0e92"
      },
      "source": [
        "\n",
        "x_input=test[2468:].reshape(1,-1)\n",
        "x_input.shape"
      ],
      "execution_count": null,
      "outputs": [
        {
          "output_type": "execute_result",
          "data": {
            "text/plain": [
              "(1, 100)"
            ]
          },
          "metadata": {
            "tags": []
          },
          "execution_count": 52
        }
      ]
    },
    {
      "cell_type": "code",
      "metadata": {
        "id": "7sgf2kgOlOMt"
      },
      "source": [
        "temp_input=list(x_input)\n",
        "temp_input=temp_input[0].tolist()"
      ],
      "execution_count": null,
      "outputs": []
    },
    {
      "cell_type": "code",
      "metadata": {
        "colab": {
          "base_uri": "https://localhost:8080/"
        },
        "id": "luxiaE1wlUkf",
        "outputId": "18d2742c-2852-4cab-a0b4-8d19a8082dad"
      },
      "source": [
        "# demonstrate prediction for next 10 days\n",
        "from numpy import array\n",
        "\n",
        "lst_output=[]\n",
        "n_steps=100\n",
        "i=0\n",
        "while(i<30):\n",
        "    \n",
        "    if(len(temp_input)>100):\n",
        "        #print(temp_input)\n",
        "        x_input=np.array(temp_input[1:])\n",
        "        print(\"{} day input {}\".format(i,x_input))\n",
        "        x_input=x_input.reshape(1,-1)\n",
        "        x_input = x_input.reshape((1, n_steps, 1))\n",
        "        #print(x_input)\n",
        "        yhat = model.predict(x_input, verbose=0)\n",
        "        print(\"{} day output {}\".format(i,yhat))\n",
        "        temp_input.extend(yhat[0].tolist())\n",
        "        temp_input=temp_input[1:]\n",
        "        #print(temp_input)\n",
        "        lst_output.extend(yhat.tolist())\n",
        "        i=i+1\n",
        "    else:\n",
        "        x_input = x_input.reshape((1, n_steps,1))\n",
        "        yhat = model.predict(x_input, verbose=0)\n",
        "        print(yhat[0])\n",
        "        temp_input.extend(yhat[0].tolist())\n",
        "        print(len(temp_input))\n",
        "        lst_output.extend(yhat.tolist())\n",
        "        i=i+1\n",
        "    \n",
        "\n",
        "print(lst_output)"
      ],
      "execution_count": null,
      "outputs": [
        {
          "output_type": "stream",
          "text": [
            "[0.04646016]\n",
            "101\n",
            "1 day input [0.03451085 0.03441751 0.03522364 0.03617402 0.03673407 0.03804934\n",
            " 0.03878758 0.03923732 0.04078169 0.04112111 0.04084958 0.0400095\n",
            " 0.03917792 0.03887244 0.03971251 0.03964462 0.03961917 0.03945794\n",
            " 0.03899972 0.03959371 0.03922035 0.0405441  0.04073078 0.04171511\n",
            " 0.04134174 0.04162176 0.04221575 0.04248729 0.04205453 0.0417745\n",
            " 0.04241092 0.04039135 0.03995859 0.04110414 0.04091746 0.04147751\n",
            " 0.04170662 0.04280974 0.04268246 0.04273337 0.04284369 0.0435989\n",
            " 0.04376013 0.04400621 0.0428946  0.04256366 0.04300491 0.04193573\n",
            " 0.04279277 0.04250426 0.04255518 0.04170662 0.04179148 0.04076472\n",
            " 0.04090898 0.04256366 0.04370073 0.04476991 0.04516874 0.04510085\n",
            " 0.04486325 0.04611912 0.04655189 0.04565241 0.04482931 0.04513479\n",
            " 0.0448972  0.04426078 0.04418441 0.0453045  0.04553362 0.04632277\n",
            " 0.04708648 0.04687434 0.04715436 0.0464246  0.04634823 0.04497357\n",
            " 0.044719   0.04475294 0.04323402 0.04308128 0.04416744 0.04485477\n",
            " 0.04572878 0.04596638 0.04447292 0.0457203  0.0440147  0.04491417\n",
            " 0.04478688 0.04484628 0.04543179 0.04601729 0.04600881 0.04454929\n",
            " 0.044719   0.04451535 0.0445408  0.04646016]\n",
            "1 day output [[0.04828944]]\n",
            "2 day input [0.03441751 0.03522364 0.03617402 0.03673407 0.03804934 0.03878758\n",
            " 0.03923732 0.04078169 0.04112111 0.04084958 0.0400095  0.03917792\n",
            " 0.03887244 0.03971251 0.03964462 0.03961917 0.03945794 0.03899972\n",
            " 0.03959371 0.03922035 0.0405441  0.04073078 0.04171511 0.04134174\n",
            " 0.04162176 0.04221575 0.04248729 0.04205453 0.0417745  0.04241092\n",
            " 0.04039135 0.03995859 0.04110414 0.04091746 0.04147751 0.04170662\n",
            " 0.04280974 0.04268246 0.04273337 0.04284369 0.0435989  0.04376013\n",
            " 0.04400621 0.0428946  0.04256366 0.04300491 0.04193573 0.04279277\n",
            " 0.04250426 0.04255518 0.04170662 0.04179148 0.04076472 0.04090898\n",
            " 0.04256366 0.04370073 0.04476991 0.04516874 0.04510085 0.04486325\n",
            " 0.04611912 0.04655189 0.04565241 0.04482931 0.04513479 0.0448972\n",
            " 0.04426078 0.04418441 0.0453045  0.04553362 0.04632277 0.04708648\n",
            " 0.04687434 0.04715436 0.0464246  0.04634823 0.04497357 0.044719\n",
            " 0.04475294 0.04323402 0.04308128 0.04416744 0.04485477 0.04572878\n",
            " 0.04596638 0.04447292 0.0457203  0.0440147  0.04491417 0.04478688\n",
            " 0.04484628 0.04543179 0.04601729 0.04600881 0.04454929 0.044719\n",
            " 0.04451535 0.0445408  0.04646016 0.04828944]\n",
            "2 day output [[0.05003339]]\n",
            "3 day input [0.03522364 0.03617402 0.03673407 0.03804934 0.03878758 0.03923732\n",
            " 0.04078169 0.04112111 0.04084958 0.0400095  0.03917792 0.03887244\n",
            " 0.03971251 0.03964462 0.03961917 0.03945794 0.03899972 0.03959371\n",
            " 0.03922035 0.0405441  0.04073078 0.04171511 0.04134174 0.04162176\n",
            " 0.04221575 0.04248729 0.04205453 0.0417745  0.04241092 0.04039135\n",
            " 0.03995859 0.04110414 0.04091746 0.04147751 0.04170662 0.04280974\n",
            " 0.04268246 0.04273337 0.04284369 0.0435989  0.04376013 0.04400621\n",
            " 0.0428946  0.04256366 0.04300491 0.04193573 0.04279277 0.04250426\n",
            " 0.04255518 0.04170662 0.04179148 0.04076472 0.04090898 0.04256366\n",
            " 0.04370073 0.04476991 0.04516874 0.04510085 0.04486325 0.04611912\n",
            " 0.04655189 0.04565241 0.04482931 0.04513479 0.0448972  0.04426078\n",
            " 0.04418441 0.0453045  0.04553362 0.04632277 0.04708648 0.04687434\n",
            " 0.04715436 0.0464246  0.04634823 0.04497357 0.044719   0.04475294\n",
            " 0.04323402 0.04308128 0.04416744 0.04485477 0.04572878 0.04596638\n",
            " 0.04447292 0.0457203  0.0440147  0.04491417 0.04478688 0.04484628\n",
            " 0.04543179 0.04601729 0.04600881 0.04454929 0.044719   0.04451535\n",
            " 0.0445408  0.04646016 0.04828944 0.05003339]\n",
            "3 day output [[0.05169109]]\n",
            "4 day input [0.03617402 0.03673407 0.03804934 0.03878758 0.03923732 0.04078169\n",
            " 0.04112111 0.04084958 0.0400095  0.03917792 0.03887244 0.03971251\n",
            " 0.03964462 0.03961917 0.03945794 0.03899972 0.03959371 0.03922035\n",
            " 0.0405441  0.04073078 0.04171511 0.04134174 0.04162176 0.04221575\n",
            " 0.04248729 0.04205453 0.0417745  0.04241092 0.04039135 0.03995859\n",
            " 0.04110414 0.04091746 0.04147751 0.04170662 0.04280974 0.04268246\n",
            " 0.04273337 0.04284369 0.0435989  0.04376013 0.04400621 0.0428946\n",
            " 0.04256366 0.04300491 0.04193573 0.04279277 0.04250426 0.04255518\n",
            " 0.04170662 0.04179148 0.04076472 0.04090898 0.04256366 0.04370073\n",
            " 0.04476991 0.04516874 0.04510085 0.04486325 0.04611912 0.04655189\n",
            " 0.04565241 0.04482931 0.04513479 0.0448972  0.04426078 0.04418441\n",
            " 0.0453045  0.04553362 0.04632277 0.04708648 0.04687434 0.04715436\n",
            " 0.0464246  0.04634823 0.04497357 0.044719   0.04475294 0.04323402\n",
            " 0.04308128 0.04416744 0.04485477 0.04572878 0.04596638 0.04447292\n",
            " 0.0457203  0.0440147  0.04491417 0.04478688 0.04484628 0.04543179\n",
            " 0.04601729 0.04600881 0.04454929 0.044719   0.04451535 0.0445408\n",
            " 0.04646016 0.04828944 0.05003339 0.05169109]\n",
            "4 day output [[0.05327155]]\n",
            "5 day input [0.03673407 0.03804934 0.03878758 0.03923732 0.04078169 0.04112111\n",
            " 0.04084958 0.0400095  0.03917792 0.03887244 0.03971251 0.03964462\n",
            " 0.03961917 0.03945794 0.03899972 0.03959371 0.03922035 0.0405441\n",
            " 0.04073078 0.04171511 0.04134174 0.04162176 0.04221575 0.04248729\n",
            " 0.04205453 0.0417745  0.04241092 0.04039135 0.03995859 0.04110414\n",
            " 0.04091746 0.04147751 0.04170662 0.04280974 0.04268246 0.04273337\n",
            " 0.04284369 0.0435989  0.04376013 0.04400621 0.0428946  0.04256366\n",
            " 0.04300491 0.04193573 0.04279277 0.04250426 0.04255518 0.04170662\n",
            " 0.04179148 0.04076472 0.04090898 0.04256366 0.04370073 0.04476991\n",
            " 0.04516874 0.04510085 0.04486325 0.04611912 0.04655189 0.04565241\n",
            " 0.04482931 0.04513479 0.0448972  0.04426078 0.04418441 0.0453045\n",
            " 0.04553362 0.04632277 0.04708648 0.04687434 0.04715436 0.0464246\n",
            " 0.04634823 0.04497357 0.044719   0.04475294 0.04323402 0.04308128\n",
            " 0.04416744 0.04485477 0.04572878 0.04596638 0.04447292 0.0457203\n",
            " 0.0440147  0.04491417 0.04478688 0.04484628 0.04543179 0.04601729\n",
            " 0.04600881 0.04454929 0.044719   0.04451535 0.0445408  0.04646016\n",
            " 0.04828944 0.05003339 0.05169109 0.05327155]\n",
            "5 day output [[0.05478222]]\n",
            "6 day input [0.03804934 0.03878758 0.03923732 0.04078169 0.04112111 0.04084958\n",
            " 0.0400095  0.03917792 0.03887244 0.03971251 0.03964462 0.03961917\n",
            " 0.03945794 0.03899972 0.03959371 0.03922035 0.0405441  0.04073078\n",
            " 0.04171511 0.04134174 0.04162176 0.04221575 0.04248729 0.04205453\n",
            " 0.0417745  0.04241092 0.04039135 0.03995859 0.04110414 0.04091746\n",
            " 0.04147751 0.04170662 0.04280974 0.04268246 0.04273337 0.04284369\n",
            " 0.0435989  0.04376013 0.04400621 0.0428946  0.04256366 0.04300491\n",
            " 0.04193573 0.04279277 0.04250426 0.04255518 0.04170662 0.04179148\n",
            " 0.04076472 0.04090898 0.04256366 0.04370073 0.04476991 0.04516874\n",
            " 0.04510085 0.04486325 0.04611912 0.04655189 0.04565241 0.04482931\n",
            " 0.04513479 0.0448972  0.04426078 0.04418441 0.0453045  0.04553362\n",
            " 0.04632277 0.04708648 0.04687434 0.04715436 0.0464246  0.04634823\n",
            " 0.04497357 0.044719   0.04475294 0.04323402 0.04308128 0.04416744\n",
            " 0.04485477 0.04572878 0.04596638 0.04447292 0.0457203  0.0440147\n",
            " 0.04491417 0.04478688 0.04484628 0.04543179 0.04601729 0.04600881\n",
            " 0.04454929 0.044719   0.04451535 0.0445408  0.04646016 0.04828944\n",
            " 0.05003339 0.05169109 0.05327155 0.05478222]\n",
            "6 day output [[0.05622822]]\n",
            "7 day input [0.03878758 0.03923732 0.04078169 0.04112111 0.04084958 0.0400095\n",
            " 0.03917792 0.03887244 0.03971251 0.03964462 0.03961917 0.03945794\n",
            " 0.03899972 0.03959371 0.03922035 0.0405441  0.04073078 0.04171511\n",
            " 0.04134174 0.04162176 0.04221575 0.04248729 0.04205453 0.0417745\n",
            " 0.04241092 0.04039135 0.03995859 0.04110414 0.04091746 0.04147751\n",
            " 0.04170662 0.04280974 0.04268246 0.04273337 0.04284369 0.0435989\n",
            " 0.04376013 0.04400621 0.0428946  0.04256366 0.04300491 0.04193573\n",
            " 0.04279277 0.04250426 0.04255518 0.04170662 0.04179148 0.04076472\n",
            " 0.04090898 0.04256366 0.04370073 0.04476991 0.04516874 0.04510085\n",
            " 0.04486325 0.04611912 0.04655189 0.04565241 0.04482931 0.04513479\n",
            " 0.0448972  0.04426078 0.04418441 0.0453045  0.04553362 0.04632277\n",
            " 0.04708648 0.04687434 0.04715436 0.0464246  0.04634823 0.04497357\n",
            " 0.044719   0.04475294 0.04323402 0.04308128 0.04416744 0.04485477\n",
            " 0.04572878 0.04596638 0.04447292 0.0457203  0.0440147  0.04491417\n",
            " 0.04478688 0.04484628 0.04543179 0.04601729 0.04600881 0.04454929\n",
            " 0.044719   0.04451535 0.0445408  0.04646016 0.04828944 0.05003339\n",
            " 0.05169109 0.05327155 0.05478222 0.05622822]\n",
            "7 day output [[0.05761321]]\n",
            "8 day input [0.03923732 0.04078169 0.04112111 0.04084958 0.0400095  0.03917792\n",
            " 0.03887244 0.03971251 0.03964462 0.03961917 0.03945794 0.03899972\n",
            " 0.03959371 0.03922035 0.0405441  0.04073078 0.04171511 0.04134174\n",
            " 0.04162176 0.04221575 0.04248729 0.04205453 0.0417745  0.04241092\n",
            " 0.04039135 0.03995859 0.04110414 0.04091746 0.04147751 0.04170662\n",
            " 0.04280974 0.04268246 0.04273337 0.04284369 0.0435989  0.04376013\n",
            " 0.04400621 0.0428946  0.04256366 0.04300491 0.04193573 0.04279277\n",
            " 0.04250426 0.04255518 0.04170662 0.04179148 0.04076472 0.04090898\n",
            " 0.04256366 0.04370073 0.04476991 0.04516874 0.04510085 0.04486325\n",
            " 0.04611912 0.04655189 0.04565241 0.04482931 0.04513479 0.0448972\n",
            " 0.04426078 0.04418441 0.0453045  0.04553362 0.04632277 0.04708648\n",
            " 0.04687434 0.04715436 0.0464246  0.04634823 0.04497357 0.044719\n",
            " 0.04475294 0.04323402 0.04308128 0.04416744 0.04485477 0.04572878\n",
            " 0.04596638 0.04447292 0.0457203  0.0440147  0.04491417 0.04478688\n",
            " 0.04484628 0.04543179 0.04601729 0.04600881 0.04454929 0.044719\n",
            " 0.04451535 0.0445408  0.04646016 0.04828944 0.05003339 0.05169109\n",
            " 0.05327155 0.05478222 0.05622822 0.05761321]\n",
            "8 day output [[0.0589401]]\n",
            "9 day input [0.04078169 0.04112111 0.04084958 0.0400095  0.03917792 0.03887244\n",
            " 0.03971251 0.03964462 0.03961917 0.03945794 0.03899972 0.03959371\n",
            " 0.03922035 0.0405441  0.04073078 0.04171511 0.04134174 0.04162176\n",
            " 0.04221575 0.04248729 0.04205453 0.0417745  0.04241092 0.04039135\n",
            " 0.03995859 0.04110414 0.04091746 0.04147751 0.04170662 0.04280974\n",
            " 0.04268246 0.04273337 0.04284369 0.0435989  0.04376013 0.04400621\n",
            " 0.0428946  0.04256366 0.04300491 0.04193573 0.04279277 0.04250426\n",
            " 0.04255518 0.04170662 0.04179148 0.04076472 0.04090898 0.04256366\n",
            " 0.04370073 0.04476991 0.04516874 0.04510085 0.04486325 0.04611912\n",
            " 0.04655189 0.04565241 0.04482931 0.04513479 0.0448972  0.04426078\n",
            " 0.04418441 0.0453045  0.04553362 0.04632277 0.04708648 0.04687434\n",
            " 0.04715436 0.0464246  0.04634823 0.04497357 0.044719   0.04475294\n",
            " 0.04323402 0.04308128 0.04416744 0.04485477 0.04572878 0.04596638\n",
            " 0.04447292 0.0457203  0.0440147  0.04491417 0.04478688 0.04484628\n",
            " 0.04543179 0.04601729 0.04600881 0.04454929 0.044719   0.04451535\n",
            " 0.0445408  0.04646016 0.04828944 0.05003339 0.05169109 0.05327155\n",
            " 0.05478222 0.05622822 0.05761321 0.0589401 ]\n",
            "9 day output [[0.06021145]]\n",
            "10 day input [0.04112111 0.04084958 0.0400095  0.03917792 0.03887244 0.03971251\n",
            " 0.03964462 0.03961917 0.03945794 0.03899972 0.03959371 0.03922035\n",
            " 0.0405441  0.04073078 0.04171511 0.04134174 0.04162176 0.04221575\n",
            " 0.04248729 0.04205453 0.0417745  0.04241092 0.04039135 0.03995859\n",
            " 0.04110414 0.04091746 0.04147751 0.04170662 0.04280974 0.04268246\n",
            " 0.04273337 0.04284369 0.0435989  0.04376013 0.04400621 0.0428946\n",
            " 0.04256366 0.04300491 0.04193573 0.04279277 0.04250426 0.04255518\n",
            " 0.04170662 0.04179148 0.04076472 0.04090898 0.04256366 0.04370073\n",
            " 0.04476991 0.04516874 0.04510085 0.04486325 0.04611912 0.04655189\n",
            " 0.04565241 0.04482931 0.04513479 0.0448972  0.04426078 0.04418441\n",
            " 0.0453045  0.04553362 0.04632277 0.04708648 0.04687434 0.04715436\n",
            " 0.0464246  0.04634823 0.04497357 0.044719   0.04475294 0.04323402\n",
            " 0.04308128 0.04416744 0.04485477 0.04572878 0.04596638 0.04447292\n",
            " 0.0457203  0.0440147  0.04491417 0.04478688 0.04484628 0.04543179\n",
            " 0.04601729 0.04600881 0.04454929 0.044719   0.04451535 0.0445408\n",
            " 0.04646016 0.04828944 0.05003339 0.05169109 0.05327155 0.05478222\n",
            " 0.05622822 0.05761321 0.0589401  0.06021145]\n",
            "10 day output [[0.06142963]]\n",
            "11 day input [0.04084958 0.0400095  0.03917792 0.03887244 0.03971251 0.03964462\n",
            " 0.03961917 0.03945794 0.03899972 0.03959371 0.03922035 0.0405441\n",
            " 0.04073078 0.04171511 0.04134174 0.04162176 0.04221575 0.04248729\n",
            " 0.04205453 0.0417745  0.04241092 0.04039135 0.03995859 0.04110414\n",
            " 0.04091746 0.04147751 0.04170662 0.04280974 0.04268246 0.04273337\n",
            " 0.04284369 0.0435989  0.04376013 0.04400621 0.0428946  0.04256366\n",
            " 0.04300491 0.04193573 0.04279277 0.04250426 0.04255518 0.04170662\n",
            " 0.04179148 0.04076472 0.04090898 0.04256366 0.04370073 0.04476991\n",
            " 0.04516874 0.04510085 0.04486325 0.04611912 0.04655189 0.04565241\n",
            " 0.04482931 0.04513479 0.0448972  0.04426078 0.04418441 0.0453045\n",
            " 0.04553362 0.04632277 0.04708648 0.04687434 0.04715436 0.0464246\n",
            " 0.04634823 0.04497357 0.044719   0.04475294 0.04323402 0.04308128\n",
            " 0.04416744 0.04485477 0.04572878 0.04596638 0.04447292 0.0457203\n",
            " 0.0440147  0.04491417 0.04478688 0.04484628 0.04543179 0.04601729\n",
            " 0.04600881 0.04454929 0.044719   0.04451535 0.0445408  0.04646016\n",
            " 0.04828944 0.05003339 0.05169109 0.05327155 0.05478222 0.05622822\n",
            " 0.05761321 0.0589401  0.06021145 0.06142963]\n",
            "11 day output [[0.06259685]]\n",
            "12 day input [0.0400095  0.03917792 0.03887244 0.03971251 0.03964462 0.03961917\n",
            " 0.03945794 0.03899972 0.03959371 0.03922035 0.0405441  0.04073078\n",
            " 0.04171511 0.04134174 0.04162176 0.04221575 0.04248729 0.04205453\n",
            " 0.0417745  0.04241092 0.04039135 0.03995859 0.04110414 0.04091746\n",
            " 0.04147751 0.04170662 0.04280974 0.04268246 0.04273337 0.04284369\n",
            " 0.0435989  0.04376013 0.04400621 0.0428946  0.04256366 0.04300491\n",
            " 0.04193573 0.04279277 0.04250426 0.04255518 0.04170662 0.04179148\n",
            " 0.04076472 0.04090898 0.04256366 0.04370073 0.04476991 0.04516874\n",
            " 0.04510085 0.04486325 0.04611912 0.04655189 0.04565241 0.04482931\n",
            " 0.04513479 0.0448972  0.04426078 0.04418441 0.0453045  0.04553362\n",
            " 0.04632277 0.04708648 0.04687434 0.04715436 0.0464246  0.04634823\n",
            " 0.04497357 0.044719   0.04475294 0.04323402 0.04308128 0.04416744\n",
            " 0.04485477 0.04572878 0.04596638 0.04447292 0.0457203  0.0440147\n",
            " 0.04491417 0.04478688 0.04484628 0.04543179 0.04601729 0.04600881\n",
            " 0.04454929 0.044719   0.04451535 0.0445408  0.04646016 0.04828944\n",
            " 0.05003339 0.05169109 0.05327155 0.05478222 0.05622822 0.05761321\n",
            " 0.0589401  0.06021145 0.06142963 0.06259685]\n",
            "12 day output [[0.06371523]]\n",
            "13 day input [0.03917792 0.03887244 0.03971251 0.03964462 0.03961917 0.03945794\n",
            " 0.03899972 0.03959371 0.03922035 0.0405441  0.04073078 0.04171511\n",
            " 0.04134174 0.04162176 0.04221575 0.04248729 0.04205453 0.0417745\n",
            " 0.04241092 0.04039135 0.03995859 0.04110414 0.04091746 0.04147751\n",
            " 0.04170662 0.04280974 0.04268246 0.04273337 0.04284369 0.0435989\n",
            " 0.04376013 0.04400621 0.0428946  0.04256366 0.04300491 0.04193573\n",
            " 0.04279277 0.04250426 0.04255518 0.04170662 0.04179148 0.04076472\n",
            " 0.04090898 0.04256366 0.04370073 0.04476991 0.04516874 0.04510085\n",
            " 0.04486325 0.04611912 0.04655189 0.04565241 0.04482931 0.04513479\n",
            " 0.0448972  0.04426078 0.04418441 0.0453045  0.04553362 0.04632277\n",
            " 0.04708648 0.04687434 0.04715436 0.0464246  0.04634823 0.04497357\n",
            " 0.044719   0.04475294 0.04323402 0.04308128 0.04416744 0.04485477\n",
            " 0.04572878 0.04596638 0.04447292 0.0457203  0.0440147  0.04491417\n",
            " 0.04478688 0.04484628 0.04543179 0.04601729 0.04600881 0.04454929\n",
            " 0.044719   0.04451535 0.0445408  0.04646016 0.04828944 0.05003339\n",
            " 0.05169109 0.05327155 0.05478222 0.05622822 0.05761321 0.0589401\n",
            " 0.06021145 0.06142963 0.06259685 0.06371523]\n",
            "13 day output [[0.06478683]]\n",
            "14 day input [0.03887244 0.03971251 0.03964462 0.03961917 0.03945794 0.03899972\n",
            " 0.03959371 0.03922035 0.0405441  0.04073078 0.04171511 0.04134174\n",
            " 0.04162176 0.04221575 0.04248729 0.04205453 0.0417745  0.04241092\n",
            " 0.04039135 0.03995859 0.04110414 0.04091746 0.04147751 0.04170662\n",
            " 0.04280974 0.04268246 0.04273337 0.04284369 0.0435989  0.04376013\n",
            " 0.04400621 0.0428946  0.04256366 0.04300491 0.04193573 0.04279277\n",
            " 0.04250426 0.04255518 0.04170662 0.04179148 0.04076472 0.04090898\n",
            " 0.04256366 0.04370073 0.04476991 0.04516874 0.04510085 0.04486325\n",
            " 0.04611912 0.04655189 0.04565241 0.04482931 0.04513479 0.0448972\n",
            " 0.04426078 0.04418441 0.0453045  0.04553362 0.04632277 0.04708648\n",
            " 0.04687434 0.04715436 0.0464246  0.04634823 0.04497357 0.044719\n",
            " 0.04475294 0.04323402 0.04308128 0.04416744 0.04485477 0.04572878\n",
            " 0.04596638 0.04447292 0.0457203  0.0440147  0.04491417 0.04478688\n",
            " 0.04484628 0.04543179 0.04601729 0.04600881 0.04454929 0.044719\n",
            " 0.04451535 0.0445408  0.04646016 0.04828944 0.05003339 0.05169109\n",
            " 0.05327155 0.05478222 0.05622822 0.05761321 0.0589401  0.06021145\n",
            " 0.06142963 0.06259685 0.06371523 0.06478683]\n",
            "14 day output [[0.06581357]]\n",
            "15 day input [0.03971251 0.03964462 0.03961917 0.03945794 0.03899972 0.03959371\n",
            " 0.03922035 0.0405441  0.04073078 0.04171511 0.04134174 0.04162176\n",
            " 0.04221575 0.04248729 0.04205453 0.0417745  0.04241092 0.04039135\n",
            " 0.03995859 0.04110414 0.04091746 0.04147751 0.04170662 0.04280974\n",
            " 0.04268246 0.04273337 0.04284369 0.0435989  0.04376013 0.04400621\n",
            " 0.0428946  0.04256366 0.04300491 0.04193573 0.04279277 0.04250426\n",
            " 0.04255518 0.04170662 0.04179148 0.04076472 0.04090898 0.04256366\n",
            " 0.04370073 0.04476991 0.04516874 0.04510085 0.04486325 0.04611912\n",
            " 0.04655189 0.04565241 0.04482931 0.04513479 0.0448972  0.04426078\n",
            " 0.04418441 0.0453045  0.04553362 0.04632277 0.04708648 0.04687434\n",
            " 0.04715436 0.0464246  0.04634823 0.04497357 0.044719   0.04475294\n",
            " 0.04323402 0.04308128 0.04416744 0.04485477 0.04572878 0.04596638\n",
            " 0.04447292 0.0457203  0.0440147  0.04491417 0.04478688 0.04484628\n",
            " 0.04543179 0.04601729 0.04600881 0.04454929 0.044719   0.04451535\n",
            " 0.0445408  0.04646016 0.04828944 0.05003339 0.05169109 0.05327155\n",
            " 0.05478222 0.05622822 0.05761321 0.0589401  0.06021145 0.06142963\n",
            " 0.06259685 0.06371523 0.06478683 0.06581357]\n",
            "15 day output [[0.06679733]]\n",
            "16 day input [0.03964462 0.03961917 0.03945794 0.03899972 0.03959371 0.03922035\n",
            " 0.0405441  0.04073078 0.04171511 0.04134174 0.04162176 0.04221575\n",
            " 0.04248729 0.04205453 0.0417745  0.04241092 0.04039135 0.03995859\n",
            " 0.04110414 0.04091746 0.04147751 0.04170662 0.04280974 0.04268246\n",
            " 0.04273337 0.04284369 0.0435989  0.04376013 0.04400621 0.0428946\n",
            " 0.04256366 0.04300491 0.04193573 0.04279277 0.04250426 0.04255518\n",
            " 0.04170662 0.04179148 0.04076472 0.04090898 0.04256366 0.04370073\n",
            " 0.04476991 0.04516874 0.04510085 0.04486325 0.04611912 0.04655189\n",
            " 0.04565241 0.04482931 0.04513479 0.0448972  0.04426078 0.04418441\n",
            " 0.0453045  0.04553362 0.04632277 0.04708648 0.04687434 0.04715436\n",
            " 0.0464246  0.04634823 0.04497357 0.044719   0.04475294 0.04323402\n",
            " 0.04308128 0.04416744 0.04485477 0.04572878 0.04596638 0.04447292\n",
            " 0.0457203  0.0440147  0.04491417 0.04478688 0.04484628 0.04543179\n",
            " 0.04601729 0.04600881 0.04454929 0.044719   0.04451535 0.0445408\n",
            " 0.04646016 0.04828944 0.05003339 0.05169109 0.05327155 0.05478222\n",
            " 0.05622822 0.05761321 0.0589401  0.06021145 0.06142963 0.06259685\n",
            " 0.06371523 0.06478683 0.06581357 0.06679733]\n",
            "16 day output [[0.0677399]]\n",
            "17 day input [0.03961917 0.03945794 0.03899972 0.03959371 0.03922035 0.0405441\n",
            " 0.04073078 0.04171511 0.04134174 0.04162176 0.04221575 0.04248729\n",
            " 0.04205453 0.0417745  0.04241092 0.04039135 0.03995859 0.04110414\n",
            " 0.04091746 0.04147751 0.04170662 0.04280974 0.04268246 0.04273337\n",
            " 0.04284369 0.0435989  0.04376013 0.04400621 0.0428946  0.04256366\n",
            " 0.04300491 0.04193573 0.04279277 0.04250426 0.04255518 0.04170662\n",
            " 0.04179148 0.04076472 0.04090898 0.04256366 0.04370073 0.04476991\n",
            " 0.04516874 0.04510085 0.04486325 0.04611912 0.04655189 0.04565241\n",
            " 0.04482931 0.04513479 0.0448972  0.04426078 0.04418441 0.0453045\n",
            " 0.04553362 0.04632277 0.04708648 0.04687434 0.04715436 0.0464246\n",
            " 0.04634823 0.04497357 0.044719   0.04475294 0.04323402 0.04308128\n",
            " 0.04416744 0.04485477 0.04572878 0.04596638 0.04447292 0.0457203\n",
            " 0.0440147  0.04491417 0.04478688 0.04484628 0.04543179 0.04601729\n",
            " 0.04600881 0.04454929 0.044719   0.04451535 0.0445408  0.04646016\n",
            " 0.04828944 0.05003339 0.05169109 0.05327155 0.05478222 0.05622822\n",
            " 0.05761321 0.0589401  0.06021145 0.06142963 0.06259685 0.06371523\n",
            " 0.06478683 0.06581357 0.06679733 0.0677399 ]\n",
            "17 day output [[0.06864298]]\n",
            "18 day input [0.03945794 0.03899972 0.03959371 0.03922035 0.0405441  0.04073078\n",
            " 0.04171511 0.04134174 0.04162176 0.04221575 0.04248729 0.04205453\n",
            " 0.0417745  0.04241092 0.04039135 0.03995859 0.04110414 0.04091746\n",
            " 0.04147751 0.04170662 0.04280974 0.04268246 0.04273337 0.04284369\n",
            " 0.0435989  0.04376013 0.04400621 0.0428946  0.04256366 0.04300491\n",
            " 0.04193573 0.04279277 0.04250426 0.04255518 0.04170662 0.04179148\n",
            " 0.04076472 0.04090898 0.04256366 0.04370073 0.04476991 0.04516874\n",
            " 0.04510085 0.04486325 0.04611912 0.04655189 0.04565241 0.04482931\n",
            " 0.04513479 0.0448972  0.04426078 0.04418441 0.0453045  0.04553362\n",
            " 0.04632277 0.04708648 0.04687434 0.04715436 0.0464246  0.04634823\n",
            " 0.04497357 0.044719   0.04475294 0.04323402 0.04308128 0.04416744\n",
            " 0.04485477 0.04572878 0.04596638 0.04447292 0.0457203  0.0440147\n",
            " 0.04491417 0.04478688 0.04484628 0.04543179 0.04601729 0.04600881\n",
            " 0.04454929 0.044719   0.04451535 0.0445408  0.04646016 0.04828944\n",
            " 0.05003339 0.05169109 0.05327155 0.05478222 0.05622822 0.05761321\n",
            " 0.0589401  0.06021145 0.06142963 0.06259685 0.06371523 0.06478683\n",
            " 0.06581357 0.06679733 0.0677399  0.06864298]\n",
            "18 day output [[0.06950822]]\n",
            "19 day input [0.03899972 0.03959371 0.03922035 0.0405441  0.04073078 0.04171511\n",
            " 0.04134174 0.04162176 0.04221575 0.04248729 0.04205453 0.0417745\n",
            " 0.04241092 0.04039135 0.03995859 0.04110414 0.04091746 0.04147751\n",
            " 0.04170662 0.04280974 0.04268246 0.04273337 0.04284369 0.0435989\n",
            " 0.04376013 0.04400621 0.0428946  0.04256366 0.04300491 0.04193573\n",
            " 0.04279277 0.04250426 0.04255518 0.04170662 0.04179148 0.04076472\n",
            " 0.04090898 0.04256366 0.04370073 0.04476991 0.04516874 0.04510085\n",
            " 0.04486325 0.04611912 0.04655189 0.04565241 0.04482931 0.04513479\n",
            " 0.0448972  0.04426078 0.04418441 0.0453045  0.04553362 0.04632277\n",
            " 0.04708648 0.04687434 0.04715436 0.0464246  0.04634823 0.04497357\n",
            " 0.044719   0.04475294 0.04323402 0.04308128 0.04416744 0.04485477\n",
            " 0.04572878 0.04596638 0.04447292 0.0457203  0.0440147  0.04491417\n",
            " 0.04478688 0.04484628 0.04543179 0.04601729 0.04600881 0.04454929\n",
            " 0.044719   0.04451535 0.0445408  0.04646016 0.04828944 0.05003339\n",
            " 0.05169109 0.05327155 0.05478222 0.05622822 0.05761321 0.0589401\n",
            " 0.06021145 0.06142963 0.06259685 0.06371523 0.06478683 0.06581357\n",
            " 0.06679733 0.0677399  0.06864298 0.06950822]\n",
            "19 day output [[0.0703372]]\n",
            "20 day input [0.03959371 0.03922035 0.0405441  0.04073078 0.04171511 0.04134174\n",
            " 0.04162176 0.04221575 0.04248729 0.04205453 0.0417745  0.04241092\n",
            " 0.04039135 0.03995859 0.04110414 0.04091746 0.04147751 0.04170662\n",
            " 0.04280974 0.04268246 0.04273337 0.04284369 0.0435989  0.04376013\n",
            " 0.04400621 0.0428946  0.04256366 0.04300491 0.04193573 0.04279277\n",
            " 0.04250426 0.04255518 0.04170662 0.04179148 0.04076472 0.04090898\n",
            " 0.04256366 0.04370073 0.04476991 0.04516874 0.04510085 0.04486325\n",
            " 0.04611912 0.04655189 0.04565241 0.04482931 0.04513479 0.0448972\n",
            " 0.04426078 0.04418441 0.0453045  0.04553362 0.04632277 0.04708648\n",
            " 0.04687434 0.04715436 0.0464246  0.04634823 0.04497357 0.044719\n",
            " 0.04475294 0.04323402 0.04308128 0.04416744 0.04485477 0.04572878\n",
            " 0.04596638 0.04447292 0.0457203  0.0440147  0.04491417 0.04478688\n",
            " 0.04484628 0.04543179 0.04601729 0.04600881 0.04454929 0.044719\n",
            " 0.04451535 0.0445408  0.04646016 0.04828944 0.05003339 0.05169109\n",
            " 0.05327155 0.05478222 0.05622822 0.05761321 0.0589401  0.06021145\n",
            " 0.06142963 0.06259685 0.06371523 0.06478683 0.06581357 0.06679733\n",
            " 0.0677399  0.06864298 0.06950822 0.0703372 ]\n",
            "20 day output [[0.07113142]]\n",
            "21 day input [0.03922035 0.0405441  0.04073078 0.04171511 0.04134174 0.04162176\n",
            " 0.04221575 0.04248729 0.04205453 0.0417745  0.04241092 0.04039135\n",
            " 0.03995859 0.04110414 0.04091746 0.04147751 0.04170662 0.04280974\n",
            " 0.04268246 0.04273337 0.04284369 0.0435989  0.04376013 0.04400621\n",
            " 0.0428946  0.04256366 0.04300491 0.04193573 0.04279277 0.04250426\n",
            " 0.04255518 0.04170662 0.04179148 0.04076472 0.04090898 0.04256366\n",
            " 0.04370073 0.04476991 0.04516874 0.04510085 0.04486325 0.04611912\n",
            " 0.04655189 0.04565241 0.04482931 0.04513479 0.0448972  0.04426078\n",
            " 0.04418441 0.0453045  0.04553362 0.04632277 0.04708648 0.04687434\n",
            " 0.04715436 0.0464246  0.04634823 0.04497357 0.044719   0.04475294\n",
            " 0.04323402 0.04308128 0.04416744 0.04485477 0.04572878 0.04596638\n",
            " 0.04447292 0.0457203  0.0440147  0.04491417 0.04478688 0.04484628\n",
            " 0.04543179 0.04601729 0.04600881 0.04454929 0.044719   0.04451535\n",
            " 0.0445408  0.04646016 0.04828944 0.05003339 0.05169109 0.05327155\n",
            " 0.05478222 0.05622822 0.05761321 0.0589401  0.06021145 0.06142963\n",
            " 0.06259685 0.06371523 0.06478683 0.06581357 0.06679733 0.0677399\n",
            " 0.06864298 0.06950822 0.0703372  0.07113142]\n",
            "21 day output [[0.07189232]]\n",
            "22 day input [0.0405441  0.04073078 0.04171511 0.04134174 0.04162176 0.04221575\n",
            " 0.04248729 0.04205453 0.0417745  0.04241092 0.04039135 0.03995859\n",
            " 0.04110414 0.04091746 0.04147751 0.04170662 0.04280974 0.04268246\n",
            " 0.04273337 0.04284369 0.0435989  0.04376013 0.04400621 0.0428946\n",
            " 0.04256366 0.04300491 0.04193573 0.04279277 0.04250426 0.04255518\n",
            " 0.04170662 0.04179148 0.04076472 0.04090898 0.04256366 0.04370073\n",
            " 0.04476991 0.04516874 0.04510085 0.04486325 0.04611912 0.04655189\n",
            " 0.04565241 0.04482931 0.04513479 0.0448972  0.04426078 0.04418441\n",
            " 0.0453045  0.04553362 0.04632277 0.04708648 0.04687434 0.04715436\n",
            " 0.0464246  0.04634823 0.04497357 0.044719   0.04475294 0.04323402\n",
            " 0.04308128 0.04416744 0.04485477 0.04572878 0.04596638 0.04447292\n",
            " 0.0457203  0.0440147  0.04491417 0.04478688 0.04484628 0.04543179\n",
            " 0.04601729 0.04600881 0.04454929 0.044719   0.04451535 0.0445408\n",
            " 0.04646016 0.04828944 0.05003339 0.05169109 0.05327155 0.05478222\n",
            " 0.05622822 0.05761321 0.0589401  0.06021145 0.06142963 0.06259685\n",
            " 0.06371523 0.06478683 0.06581357 0.06679733 0.0677399  0.06864298\n",
            " 0.06950822 0.0703372  0.07113142 0.07189232]\n",
            "22 day output [[0.0726213]]\n",
            "23 day input [0.04073078 0.04171511 0.04134174 0.04162176 0.04221575 0.04248729\n",
            " 0.04205453 0.0417745  0.04241092 0.04039135 0.03995859 0.04110414\n",
            " 0.04091746 0.04147751 0.04170662 0.04280974 0.04268246 0.04273337\n",
            " 0.04284369 0.0435989  0.04376013 0.04400621 0.0428946  0.04256366\n",
            " 0.04300491 0.04193573 0.04279277 0.04250426 0.04255518 0.04170662\n",
            " 0.04179148 0.04076472 0.04090898 0.04256366 0.04370073 0.04476991\n",
            " 0.04516874 0.04510085 0.04486325 0.04611912 0.04655189 0.04565241\n",
            " 0.04482931 0.04513479 0.0448972  0.04426078 0.04418441 0.0453045\n",
            " 0.04553362 0.04632277 0.04708648 0.04687434 0.04715436 0.0464246\n",
            " 0.04634823 0.04497357 0.044719   0.04475294 0.04323402 0.04308128\n",
            " 0.04416744 0.04485477 0.04572878 0.04596638 0.04447292 0.0457203\n",
            " 0.0440147  0.04491417 0.04478688 0.04484628 0.04543179 0.04601729\n",
            " 0.04600881 0.04454929 0.044719   0.04451535 0.0445408  0.04646016\n",
            " 0.04828944 0.05003339 0.05169109 0.05327155 0.05478222 0.05622822\n",
            " 0.05761321 0.0589401  0.06021145 0.06142963 0.06259685 0.06371523\n",
            " 0.06478683 0.06581357 0.06679733 0.0677399  0.06864298 0.06950822\n",
            " 0.0703372  0.07113142 0.07189232 0.0726213 ]\n",
            "23 day output [[0.07331967]]\n",
            "24 day input [0.04171511 0.04134174 0.04162176 0.04221575 0.04248729 0.04205453\n",
            " 0.0417745  0.04241092 0.04039135 0.03995859 0.04110414 0.04091746\n",
            " 0.04147751 0.04170662 0.04280974 0.04268246 0.04273337 0.04284369\n",
            " 0.0435989  0.04376013 0.04400621 0.0428946  0.04256366 0.04300491\n",
            " 0.04193573 0.04279277 0.04250426 0.04255518 0.04170662 0.04179148\n",
            " 0.04076472 0.04090898 0.04256366 0.04370073 0.04476991 0.04516874\n",
            " 0.04510085 0.04486325 0.04611912 0.04655189 0.04565241 0.04482931\n",
            " 0.04513479 0.0448972  0.04426078 0.04418441 0.0453045  0.04553362\n",
            " 0.04632277 0.04708648 0.04687434 0.04715436 0.0464246  0.04634823\n",
            " 0.04497357 0.044719   0.04475294 0.04323402 0.04308128 0.04416744\n",
            " 0.04485477 0.04572878 0.04596638 0.04447292 0.0457203  0.0440147\n",
            " 0.04491417 0.04478688 0.04484628 0.04543179 0.04601729 0.04600881\n",
            " 0.04454929 0.044719   0.04451535 0.0445408  0.04646016 0.04828944\n",
            " 0.05003339 0.05169109 0.05327155 0.05478222 0.05622822 0.05761321\n",
            " 0.0589401  0.06021145 0.06142963 0.06259685 0.06371523 0.06478683\n",
            " 0.06581357 0.06679733 0.0677399  0.06864298 0.06950822 0.0703372\n",
            " 0.07113142 0.07189232 0.0726213  0.07331967]\n",
            "24 day output [[0.07398873]]\n",
            "25 day input [0.04134174 0.04162176 0.04221575 0.04248729 0.04205453 0.0417745\n",
            " 0.04241092 0.04039135 0.03995859 0.04110414 0.04091746 0.04147751\n",
            " 0.04170662 0.04280974 0.04268246 0.04273337 0.04284369 0.0435989\n",
            " 0.04376013 0.04400621 0.0428946  0.04256366 0.04300491 0.04193573\n",
            " 0.04279277 0.04250426 0.04255518 0.04170662 0.04179148 0.04076472\n",
            " 0.04090898 0.04256366 0.04370073 0.04476991 0.04516874 0.04510085\n",
            " 0.04486325 0.04611912 0.04655189 0.04565241 0.04482931 0.04513479\n",
            " 0.0448972  0.04426078 0.04418441 0.0453045  0.04553362 0.04632277\n",
            " 0.04708648 0.04687434 0.04715436 0.0464246  0.04634823 0.04497357\n",
            " 0.044719   0.04475294 0.04323402 0.04308128 0.04416744 0.04485477\n",
            " 0.04572878 0.04596638 0.04447292 0.0457203  0.0440147  0.04491417\n",
            " 0.04478688 0.04484628 0.04543179 0.04601729 0.04600881 0.04454929\n",
            " 0.044719   0.04451535 0.0445408  0.04646016 0.04828944 0.05003339\n",
            " 0.05169109 0.05327155 0.05478222 0.05622822 0.05761321 0.0589401\n",
            " 0.06021145 0.06142963 0.06259685 0.06371523 0.06478683 0.06581357\n",
            " 0.06679733 0.0677399  0.06864298 0.06950822 0.0703372  0.07113142\n",
            " 0.07189232 0.0726213  0.07331967 0.07398873]\n",
            "25 day output [[0.07462969]]\n",
            "26 day input [0.04162176 0.04221575 0.04248729 0.04205453 0.0417745  0.04241092\n",
            " 0.04039135 0.03995859 0.04110414 0.04091746 0.04147751 0.04170662\n",
            " 0.04280974 0.04268246 0.04273337 0.04284369 0.0435989  0.04376013\n",
            " 0.04400621 0.0428946  0.04256366 0.04300491 0.04193573 0.04279277\n",
            " 0.04250426 0.04255518 0.04170662 0.04179148 0.04076472 0.04090898\n",
            " 0.04256366 0.04370073 0.04476991 0.04516874 0.04510085 0.04486325\n",
            " 0.04611912 0.04655189 0.04565241 0.04482931 0.04513479 0.0448972\n",
            " 0.04426078 0.04418441 0.0453045  0.04553362 0.04632277 0.04708648\n",
            " 0.04687434 0.04715436 0.0464246  0.04634823 0.04497357 0.044719\n",
            " 0.04475294 0.04323402 0.04308128 0.04416744 0.04485477 0.04572878\n",
            " 0.04596638 0.04447292 0.0457203  0.0440147  0.04491417 0.04478688\n",
            " 0.04484628 0.04543179 0.04601729 0.04600881 0.04454929 0.044719\n",
            " 0.04451535 0.0445408  0.04646016 0.04828944 0.05003339 0.05169109\n",
            " 0.05327155 0.05478222 0.05622822 0.05761321 0.0589401  0.06021145\n",
            " 0.06142963 0.06259685 0.06371523 0.06478683 0.06581357 0.06679733\n",
            " 0.0677399  0.06864298 0.06950822 0.0703372  0.07113142 0.07189232\n",
            " 0.0726213  0.07331967 0.07398873 0.07462969]\n",
            "26 day output [[0.07524371]]\n",
            "27 day input [0.04221575 0.04248729 0.04205453 0.0417745  0.04241092 0.04039135\n",
            " 0.03995859 0.04110414 0.04091746 0.04147751 0.04170662 0.04280974\n",
            " 0.04268246 0.04273337 0.04284369 0.0435989  0.04376013 0.04400621\n",
            " 0.0428946  0.04256366 0.04300491 0.04193573 0.04279277 0.04250426\n",
            " 0.04255518 0.04170662 0.04179148 0.04076472 0.04090898 0.04256366\n",
            " 0.04370073 0.04476991 0.04516874 0.04510085 0.04486325 0.04611912\n",
            " 0.04655189 0.04565241 0.04482931 0.04513479 0.0448972  0.04426078\n",
            " 0.04418441 0.0453045  0.04553362 0.04632277 0.04708648 0.04687434\n",
            " 0.04715436 0.0464246  0.04634823 0.04497357 0.044719   0.04475294\n",
            " 0.04323402 0.04308128 0.04416744 0.04485477 0.04572878 0.04596638\n",
            " 0.04447292 0.0457203  0.0440147  0.04491417 0.04478688 0.04484628\n",
            " 0.04543179 0.04601729 0.04600881 0.04454929 0.044719   0.04451535\n",
            " 0.0445408  0.04646016 0.04828944 0.05003339 0.05169109 0.05327155\n",
            " 0.05478222 0.05622822 0.05761321 0.0589401  0.06021145 0.06142963\n",
            " 0.06259685 0.06371523 0.06478683 0.06581357 0.06679733 0.0677399\n",
            " 0.06864298 0.06950822 0.0703372  0.07113142 0.07189232 0.0726213\n",
            " 0.07331967 0.07398873 0.07462969 0.07524371]\n",
            "27 day output [[0.07583192]]\n",
            "28 day input [0.04248729 0.04205453 0.0417745  0.04241092 0.04039135 0.03995859\n",
            " 0.04110414 0.04091746 0.04147751 0.04170662 0.04280974 0.04268246\n",
            " 0.04273337 0.04284369 0.0435989  0.04376013 0.04400621 0.0428946\n",
            " 0.04256366 0.04300491 0.04193573 0.04279277 0.04250426 0.04255518\n",
            " 0.04170662 0.04179148 0.04076472 0.04090898 0.04256366 0.04370073\n",
            " 0.04476991 0.04516874 0.04510085 0.04486325 0.04611912 0.04655189\n",
            " 0.04565241 0.04482931 0.04513479 0.0448972  0.04426078 0.04418441\n",
            " 0.0453045  0.04553362 0.04632277 0.04708648 0.04687434 0.04715436\n",
            " 0.0464246  0.04634823 0.04497357 0.044719   0.04475294 0.04323402\n",
            " 0.04308128 0.04416744 0.04485477 0.04572878 0.04596638 0.04447292\n",
            " 0.0457203  0.0440147  0.04491417 0.04478688 0.04484628 0.04543179\n",
            " 0.04601729 0.04600881 0.04454929 0.044719   0.04451535 0.0445408\n",
            " 0.04646016 0.04828944 0.05003339 0.05169109 0.05327155 0.05478222\n",
            " 0.05622822 0.05761321 0.0589401  0.06021145 0.06142963 0.06259685\n",
            " 0.06371523 0.06478683 0.06581357 0.06679733 0.0677399  0.06864298\n",
            " 0.06950822 0.0703372  0.07113142 0.07189232 0.0726213  0.07331967\n",
            " 0.07398873 0.07462969 0.07524371 0.07583192]\n",
            "28 day output [[0.07639539]]\n",
            "29 day input [0.04205453 0.0417745  0.04241092 0.04039135 0.03995859 0.04110414\n",
            " 0.04091746 0.04147751 0.04170662 0.04280974 0.04268246 0.04273337\n",
            " 0.04284369 0.0435989  0.04376013 0.04400621 0.0428946  0.04256366\n",
            " 0.04300491 0.04193573 0.04279277 0.04250426 0.04255518 0.04170662\n",
            " 0.04179148 0.04076472 0.04090898 0.04256366 0.04370073 0.04476991\n",
            " 0.04516874 0.04510085 0.04486325 0.04611912 0.04655189 0.04565241\n",
            " 0.04482931 0.04513479 0.0448972  0.04426078 0.04418441 0.0453045\n",
            " 0.04553362 0.04632277 0.04708648 0.04687434 0.04715436 0.0464246\n",
            " 0.04634823 0.04497357 0.044719   0.04475294 0.04323402 0.04308128\n",
            " 0.04416744 0.04485477 0.04572878 0.04596638 0.04447292 0.0457203\n",
            " 0.0440147  0.04491417 0.04478688 0.04484628 0.04543179 0.04601729\n",
            " 0.04600881 0.04454929 0.044719   0.04451535 0.0445408  0.04646016\n",
            " 0.04828944 0.05003339 0.05169109 0.05327155 0.05478222 0.05622822\n",
            " 0.05761321 0.0589401  0.06021145 0.06142963 0.06259685 0.06371523\n",
            " 0.06478683 0.06581357 0.06679733 0.0677399  0.06864298 0.06950822\n",
            " 0.0703372  0.07113142 0.07189232 0.0726213  0.07331967 0.07398873\n",
            " 0.07462969 0.07524371 0.07583192 0.07639539]\n",
            "29 day output [[0.07693516]]\n",
            "[[0.04646016284823418], [0.04828944057226181], [0.050033390522003174], [0.05169109255075455], [0.05327155441045761], [0.05478222295641899], [0.05622822046279907], [0.057613205164670944], [0.0589400976896286], [0.06021145358681679], [0.06142962723970413], [0.06259685009717941], [0.06371523439884186], [0.06478682905435562], [0.0658135712146759], [0.06679733097553253], [0.06773989647626877], [0.0686429813504219], [0.06950822472572327], [0.0703371986746788], [0.07113141566514969], [0.07189232110977173], [0.07262130081653595], [0.07331967353820801], [0.07398872822523117], [0.07462968677282333], [0.07524371147155762], [0.07583191990852356], [0.07639539241790771], [0.07693516463041306]]\n"
          ],
          "name": "stdout"
        }
      ]
    },
    {
      "cell_type": "code",
      "metadata": {
        "id": "Z2N_BI1wlp5W"
      },
      "source": [
        "\n",
        "day_new=np.arange(1,101)\n",
        "day_pred=np.arange(101,131)"
      ],
      "execution_count": null,
      "outputs": []
    },
    {
      "cell_type": "code",
      "metadata": {
        "colab": {
          "base_uri": "https://localhost:8080/"
        },
        "id": "oorOaFACmLBB",
        "outputId": "053b6ab9-1f28-4e28-df41-186bb0203bb9"
      },
      "source": [
        "len(df1)"
      ],
      "execution_count": null,
      "outputs": [
        {
          "output_type": "execute_result",
          "data": {
            "text/plain": [
              "7781"
            ]
          },
          "metadata": {
            "tags": []
          },
          "execution_count": 58
        }
      ]
    },
    {
      "cell_type": "code",
      "metadata": {
        "colab": {
          "base_uri": "https://localhost:8080/",
          "height": 283
        },
        "id": "sr1VmP1LmOSY",
        "outputId": "af703d19-952e-4c9e-dc48-850117520636"
      },
      "source": [
        "plt.plot(day_new,scaler.inverse_transform(df1[7681:]))\n",
        "plt.plot(day_pred,scaler.inverse_transform(lst_output))"
      ],
      "execution_count": null,
      "outputs": [
        {
          "output_type": "execute_result",
          "data": {
            "text/plain": [
              "[<matplotlib.lines.Line2D at 0x7ff82999d510>]"
            ]
          },
          "metadata": {
            "tags": []
          },
          "execution_count": 68
        },
        {
          "output_type": "display_data",
          "data": {
            "image/png": "[encoded data removed]",
            "text/plain": [
              "<Figure size 432x288 with 1 Axes>"
            ]
          },
          "metadata": {
            "tags": [],
            "needs_background": "light"
          }
        }
      ]
    },
    {
      "cell_type": "code",
      "metadata": {
        "colab": {
          "base_uri": "https://localhost:8080/",
          "height": 282
        },
        "id": "K4S58w3AmeAf",
        "outputId": "9f7c18ea-b1a9-4886-a838-d6d391034c32"
      },
      "source": [
        "df3=df1.tolist()\n",
        "df3.extend(lst_output)\n",
        "plt.plot(df3[7000:])"
      ],
      "execution_count": null,
      "outputs": [
        {
          "output_type": "execute_result",
          "data": {
            "text/plain": [
              "[<matplotlib.lines.Line2D at 0x7ff827ca5fd0>]"
            ]
          },
          "metadata": {
            "tags": []
          },
          "execution_count": 70
        },
        {
          "output_type": "display_data",
          "data": {
            "image/png": "[encoded data removed]",
            "text/plain": [
              "<Figure size 432x288 with 1 Axes>"
            ]
          },
          "metadata": {
            "tags": [],
            "needs_background": "light"
          }
        }
      ]
    }
  ]
}